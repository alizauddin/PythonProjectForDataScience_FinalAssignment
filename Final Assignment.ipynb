Adding the Jupyter notebook for the final assignment
